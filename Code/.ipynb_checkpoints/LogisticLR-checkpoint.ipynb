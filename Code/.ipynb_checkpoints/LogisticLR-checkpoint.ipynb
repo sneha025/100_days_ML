{
 "cells": [
  {
   "cell_type": "code",
   "execution_count": 1,
   "metadata": {},
   "outputs": [],
   "source": [
    "# Importing libraries"
   ]
  },
  {
   "cell_type": "code",
   "execution_count": 24,
   "metadata": {},
   "outputs": [],
   "source": [
    "import numpy as np\n",
    "import pandas as pd\n",
    "import matplotlib.pyplot as plt"
   ]
  },
  {
   "cell_type": "code",
   "execution_count": 25,
   "metadata": {},
   "outputs": [],
   "source": [
    "# importing datasets "
   ]
  },
  {
   "cell_type": "code",
   "execution_count": 39,
   "metadata": {},
   "outputs": [
    {
     "name": "stdout",
     "output_type": "stream",
     "text": [
      "      User ID  Gender  Age  EstimatedSalary  Purchased\n",
      "0    15624510    Male   19            19000          0\n",
      "1    15810944    Male   35            20000          0\n",
      "2    15668575  Female   26            43000          0\n",
      "3    15603246  Female   27            57000          0\n",
      "4    15804002    Male   19            76000          0\n",
      "..        ...     ...  ...              ...        ...\n",
      "395  15691863  Female   46            41000          1\n",
      "396  15706071    Male   51            23000          1\n",
      "397  15654296  Female   50            20000          1\n",
      "398  15755018    Male   36            33000          0\n",
      "399  15594041  Female   49            36000          1\n",
      "\n",
      "[400 rows x 5 columns]\n"
     ]
    }
   ],
   "source": [
    "dataset=pd.read_csv('../datasets/Social_Network_Ads.csv')\n",
    "print(dataset)\n",
    "X=dataset.iloc[:,[2,3]].values\n",
    "Y=dataset.iloc[:,4].values\n"
   ]
  },
  {
   "cell_type": "code",
   "execution_count": 40,
   "metadata": {},
   "outputs": [],
   "source": [
    "# splitting the datasets into the training and testing set"
   ]
  },
  {
   "cell_type": "code",
   "execution_count": 42,
   "metadata": {},
   "outputs": [],
   "source": [
    "\n",
    "from sklearn.model_selection import train_test_split\n",
    "X_train, X_test, y_train, y_test = train_test_split(X, Y, test_size = 0.25, random_state = 0)\n"
   ]
  },
  {
   "cell_type": "code",
   "execution_count": 43,
   "metadata": {},
   "outputs": [],
   "source": [
    "#featuer scaling"
   ]
  },
  {
   "cell_type": "code",
   "execution_count": 53,
   "metadata": {},
   "outputs": [],
   "source": [
    "from sklearn.preprocessing import StandardScaler\n",
    "sc=StandardScaler()\n",
    "#X_train=sc.fit_transform(X_train)\n",
    "#X_test=sc.fit_transform(X_test)\n",
    "\n"
   ]
  },
  {
   "cell_type": "code",
   "execution_count": 54,
   "metadata": {},
   "outputs": [],
   "source": [
    "\n",
    "X_train=sc.fit_transform(X_train)\n",
    "X_test=sc.fit_transform(X_test)"
   ]
  },
  {
   "cell_type": "code",
   "execution_count": 55,
   "metadata": {},
   "outputs": [
    {
     "name": "stdout",
     "output_type": "stream",
     "text": [
      "[ 0.2911335   0.32900029  0.36023077  0.25846436  0.2581397  -0.05333114\n",
      "  0.02073143  0.6656223  -0.06989807  0.51299656  0.13595508  0.11321654\n",
      "  0.32579831  0.46287884  0.05084789  0.46088316  0.41563845  0.02314405\n",
      "  1.05723504  0.14379771  0.24588878  0.92544446  0.40394453  0.7661824\n",
      " -0.11514279  0.96043393  0.2438931   0.2389278   0.35438381  0.33429025\n",
      "  0.08263537  0.42380573  0.81862045  0.31763102  0.03098668 -0.13523635\n",
      "  0.07767007  0.20593401  0.09832064  0.53165146  0.22435655  0.40802817\n",
      "  0.20802198  0.13563043  0.70028711  0.10184727  0.42788937  0.82302875\n",
      " -0.03611492  0.73583359  1.07180629  0.13242844  0.2867252   0.49995627\n",
      "  0.98020284  0.4208361   0.25117873  0.16806721  0.49898232 -0.14781193\n",
      "  0.05660255  0.81597548 -0.01360873  0.48185839 -0.21779086  0.98340482\n",
      "  0.1575796   0.10184727  0.36398976  0.50515393  0.59564337  0.36839805\n",
      "  0.0041645   0.37999968  0.22844019 -0.01272708  0.54190671  0.41707711\n",
      "  0.61796496  0.77434969  1.18526662  0.95978462  0.01873575 -0.0156967\n",
      "  0.75240051  0.54599036  0.47833175  1.15171582  0.48120908  0.44069731\n",
      "  0.48065208  0.69740978 -0.03346994 -0.04748418  0.13716139  0.25702569\n",
      "  0.0277847   0.49578034  0.72854796  0.64399778]\n"
     ]
    }
   ],
   "source": [
    "from sklearn.linear_model import LinearRegression\n",
    "lr=LinearRegression()\n",
    "lr.fit(X_train,y_train)\n",
    "y_pred=lr.predict(X_test)\n",
    "print(y_pred)"
   ]
  },
  {
   "cell_type": "code",
   "execution_count": null,
   "metadata": {},
   "outputs": [],
   "source": []
  },
  {
   "cell_type": "code",
   "execution_count": null,
   "metadata": {},
   "outputs": [],
   "source": []
  },
  {
   "cell_type": "code",
   "execution_count": null,
   "metadata": {},
   "outputs": [],
   "source": []
  }
 ],
 "metadata": {
  "kernelspec": {
   "display_name": "Python 3",
   "language": "python",
   "name": "python3"
  },
  "language_info": {
   "codemirror_mode": {
    "name": "ipython",
    "version": 3
   },
   "file_extension": ".py",
   "mimetype": "text/x-python",
   "name": "python",
   "nbconvert_exporter": "python",
   "pygments_lexer": "ipython3",
   "version": "3.7.6"
  }
 },
 "nbformat": 4,
 "nbformat_minor": 4
}
